{
  "nbformat": 4,
  "nbformat_minor": 0,
  "metadata": {
    "colab": {
      "name": "anxiety",
      "provenance": []
    },
    "kernelspec": {
      "name": "python3",
      "display_name": "Python 3"
    },
    "language_info": {
      "name": "python"
    }
  },
  "cells": [
    {
      "cell_type": "code",
      "metadata": {
        "colab": {
          "base_uri": "https://localhost:8080/"
        },
        "id": "Sf7x5k6_hgMy",
        "outputId": "17eb1c56-376a-4e98-bd17-3bfab446f053"
      },
      "source": [
        "#import the library\n",
        "import pandas as pd\n",
        "import numpy as np\n",
        "import matplotlib.pyplot as plt\n",
        "import re\n",
        "\n",
        "import nltk\n",
        "from nltk.corpus import stopwords\n",
        "nltk.download('stopwords')\n",
        "STOPWORDS = stopwords.words('english')\n",
        "\n",
        "from sklearn.feature_extraction.text import TfidfVectorizer"
      ],
      "execution_count": 60,
      "outputs": [
        {
          "output_type": "stream",
          "name": "stdout",
          "text": [
            "[nltk_data] Downloading package stopwords to /root/nltk_data...\n",
            "[nltk_data]   Package stopwords is already up-to-date!\n"
          ]
        }
      ]
    },
    {
      "cell_type": "code",
      "metadata": {
        "id": "G4NiD5TzlsVU",
        "colab": {
          "base_uri": "https://localhost:8080/",
          "height": 203
        },
        "outputId": "2f71259d-5ded-4c25-8165-639995865274"
      },
      "source": [
        "df=pd.read_csv(\"/content/reddit_anxiety_labelled - reddit_anxiety.csv\")\n",
        "df.head()"
      ],
      "execution_count": 61,
      "outputs": [
        {
          "output_type": "execute_result",
          "data": {
            "text/html": [
              "<div>\n",
              "<style scoped>\n",
              "    .dataframe tbody tr th:only-of-type {\n",
              "        vertical-align: middle;\n",
              "    }\n",
              "\n",
              "    .dataframe tbody tr th {\n",
              "        vertical-align: top;\n",
              "    }\n",
              "\n",
              "    .dataframe thead th {\n",
              "        text-align: right;\n",
              "    }\n",
              "</style>\n",
              "<table border=\"1\" class=\"dataframe\">\n",
              "  <thead>\n",
              "    <tr style=\"text-align: right;\">\n",
              "      <th></th>\n",
              "      <th>Unnamed: 0</th>\n",
              "      <th>comments</th>\n",
              "      <th>category</th>\n",
              "    </tr>\n",
              "  </thead>\n",
              "  <tbody>\n",
              "    <tr>\n",
              "      <th>0</th>\n",
              "      <td>0</td>\n",
              "      <td>I have a conversation with anyone and I instan...</td>\n",
              "      <td>1.0</td>\n",
              "    </tr>\n",
              "    <tr>\n",
              "      <th>1</th>\n",
              "      <td>1</td>\n",
              "      <td>I lost a great job at the beginning of the pan...</td>\n",
              "      <td>1.0</td>\n",
              "    </tr>\n",
              "    <tr>\n",
              "      <th>2</th>\n",
              "      <td>2</td>\n",
              "      <td>Well.. I’m embarrassed as can be. Panic attack...</td>\n",
              "      <td>1.0</td>\n",
              "    </tr>\n",
              "    <tr>\n",
              "      <th>3</th>\n",
              "      <td>3</td>\n",
              "      <td>And when I say bitch I mean it in the sense th...</td>\n",
              "      <td>0.0</td>\n",
              "    </tr>\n",
              "    <tr>\n",
              "      <th>4</th>\n",
              "      <td>4</td>\n",
              "      <td>Work just amplifies my social anxiety to the p...</td>\n",
              "      <td>1.0</td>\n",
              "    </tr>\n",
              "  </tbody>\n",
              "</table>\n",
              "</div>"
            ],
            "text/plain": [
              "   Unnamed: 0                                           comments  category\n",
              "0           0  I have a conversation with anyone and I instan...       1.0\n",
              "1           1  I lost a great job at the beginning of the pan...       1.0\n",
              "2           2  Well.. I’m embarrassed as can be. Panic attack...       1.0\n",
              "3           3  And when I say bitch I mean it in the sense th...       0.0\n",
              "4           4  Work just amplifies my social anxiety to the p...       1.0"
            ]
          },
          "metadata": {},
          "execution_count": 61
        }
      ]
    },
    {
      "cell_type": "code",
      "metadata": {
        "colab": {
          "base_uri": "https://localhost:8080/",
          "height": 203
        },
        "id": "sD6J4fowSpfw",
        "outputId": "07cab7c7-b522-4f76-d646-7e707d045441"
      },
      "source": [
        "df.drop(\"Unnamed: 0\",inplace=True,axis=1)\n",
        "df.head()"
      ],
      "execution_count": 62,
      "outputs": [
        {
          "output_type": "execute_result",
          "data": {
            "text/html": [
              "<div>\n",
              "<style scoped>\n",
              "    .dataframe tbody tr th:only-of-type {\n",
              "        vertical-align: middle;\n",
              "    }\n",
              "\n",
              "    .dataframe tbody tr th {\n",
              "        vertical-align: top;\n",
              "    }\n",
              "\n",
              "    .dataframe thead th {\n",
              "        text-align: right;\n",
              "    }\n",
              "</style>\n",
              "<table border=\"1\" class=\"dataframe\">\n",
              "  <thead>\n",
              "    <tr style=\"text-align: right;\">\n",
              "      <th></th>\n",
              "      <th>comments</th>\n",
              "      <th>category</th>\n",
              "    </tr>\n",
              "  </thead>\n",
              "  <tbody>\n",
              "    <tr>\n",
              "      <th>0</th>\n",
              "      <td>I have a conversation with anyone and I instan...</td>\n",
              "      <td>1.0</td>\n",
              "    </tr>\n",
              "    <tr>\n",
              "      <th>1</th>\n",
              "      <td>I lost a great job at the beginning of the pan...</td>\n",
              "      <td>1.0</td>\n",
              "    </tr>\n",
              "    <tr>\n",
              "      <th>2</th>\n",
              "      <td>Well.. I’m embarrassed as can be. Panic attack...</td>\n",
              "      <td>1.0</td>\n",
              "    </tr>\n",
              "    <tr>\n",
              "      <th>3</th>\n",
              "      <td>And when I say bitch I mean it in the sense th...</td>\n",
              "      <td>0.0</td>\n",
              "    </tr>\n",
              "    <tr>\n",
              "      <th>4</th>\n",
              "      <td>Work just amplifies my social anxiety to the p...</td>\n",
              "      <td>1.0</td>\n",
              "    </tr>\n",
              "  </tbody>\n",
              "</table>\n",
              "</div>"
            ],
            "text/plain": [
              "                                            comments  category\n",
              "0  I have a conversation with anyone and I instan...       1.0\n",
              "1  I lost a great job at the beginning of the pan...       1.0\n",
              "2  Well.. I’m embarrassed as can be. Panic attack...       1.0\n",
              "3  And when I say bitch I mean it in the sense th...       0.0\n",
              "4  Work just amplifies my social anxiety to the p...       1.0"
            ]
          },
          "metadata": {},
          "execution_count": 62
        }
      ]
    },
    {
      "cell_type": "code",
      "metadata": {
        "colab": {
          "base_uri": "https://localhost:8080/"
        },
        "id": "I3H9FJCZ72DD",
        "outputId": "c94f322f-204a-44ea-d07a-1701c6dc8eec"
      },
      "source": [
        "df.shape"
      ],
      "execution_count": 63,
      "outputs": [
        {
          "output_type": "execute_result",
          "data": {
            "text/plain": [
              "(579, 2)"
            ]
          },
          "metadata": {},
          "execution_count": 63
        }
      ]
    },
    {
      "cell_type": "code",
      "metadata": {
        "colab": {
          "base_uri": "https://localhost:8080/"
        },
        "id": "ZjoHv9s3muVN",
        "outputId": "365647b7-82a0-42b9-d1be-ecb145e288da"
      },
      "source": [
        "print(f\"Number of nan values:\\n\\n{df.isna().sum()}\\n\\n\")\n",
        "print(f\"Duplicated Values: \\n\\n {df.duplicated(subset=['comments'],keep='first').value_counts()}\")"
      ],
      "execution_count": 64,
      "outputs": [
        {
          "output_type": "stream",
          "name": "stdout",
          "text": [
            "Number of nan values:\n",
            "\n",
            "comments      0\n",
            "category    381\n",
            "dtype: int64\n",
            "\n",
            "\n",
            "Duplicated Values: \n",
            "\n",
            " False    573\n",
            "True       6\n",
            "dtype: int64\n"
          ]
        }
      ]
    },
    {
      "cell_type": "markdown",
      "metadata": {
        "id": "Z6VXSiXVVC5G"
      },
      "source": [
        "**Prediction is to be made for those nan values.**"
      ]
    },
    {
      "cell_type": "code",
      "metadata": {
        "colab": {
          "base_uri": "https://localhost:8080/"
        },
        "id": "XZ3AoC6Jofqi",
        "outputId": "5eeed7e8-adb9-409b-c1a9-60e896e03249"
      },
      "source": [
        "#dropping the duplicated and  nan rows\n",
        "df.drop_duplicates(subset=[\"comments\"],inplace=True)\n",
        "#checking\n",
        "df.duplicated(subset=['comments'],keep='first').value_counts()"
      ],
      "execution_count": 65,
      "outputs": [
        {
          "output_type": "execute_result",
          "data": {
            "text/plain": [
              "False    573\n",
              "dtype: int64"
            ]
          },
          "metadata": {},
          "execution_count": 65
        }
      ]
    },
    {
      "cell_type": "code",
      "metadata": {
        "colab": {
          "base_uri": "https://localhost:8080/",
          "height": 724
        },
        "id": "PG8TJhaCrME8",
        "outputId": "6ede0a62-12f5-4648-ae28-8ac493c2c19a"
      },
      "source": [
        "print(f\"Count of records in different categories:\\n\\n {df['category'].value_counts()}\\n\\n\")\n",
        "\n",
        "#seeing the dataset is balanced or not\n",
        "y_values=[value for value in df[\"category\"].value_counts()]\n",
        "x_label=[str(value) for value in df[\"category\"].value_counts().index]\n",
        "x_values=[i for i in range(2)]\n",
        "#x_label.insert(0,0)\n",
        "plt.figure(figsize=(10,10))\n",
        "plt.bar(x_values,y_values,0.2)\n",
        "plt.xticks(ticks=[0,1],labels=x_label)\n",
        "plt.xlabel(\"Different  categories\")\n",
        "plt.ylabel(\"Count\")\n",
        "plt.show()"
      ],
      "execution_count": 66,
      "outputs": [
        {
          "output_type": "stream",
          "name": "stdout",
          "text": [
            "Count of records in different categories:\n",
            "\n",
            " 1.0    132\n",
            "0.0     66\n",
            "Name: category, dtype: int64\n",
            "\n",
            "\n"
          ]
        },
        {
          "output_type": "display_data",
          "data": {
            "image/png": "[encoded data removed]",
            "text/plain": [
              "<Figure size 720x720 with 1 Axes>"
            ]
          },
          "metadata": {
            "needs_background": "light"
          }
        }
      ]
    },
    {
      "cell_type": "code",
      "metadata": {
        "colab": {
          "base_uri": "https://localhost:8080/"
        },
        "id": "U45XWbCOVPXi",
        "outputId": "5f65f147-1424-4c83-9615-464854b92bca"
      },
      "source": [
        "def clean_data(frame,column):\n",
        "  frame[column]=frame[column].apply(lambda x: x.lower())\n",
        "  frame[column]=frame[column].apply(lambda x: re.sub(\"[^a-zA-Z0-9\\s]\",\"\",x))\n",
        "  frame[column].apply(lambda x: \" \".join([word for word in x.split() if word not in STOPWORDS]))\n",
        "  return 0\n",
        "\n",
        "\n",
        "clean_data(df,'comments')"
      ],
      "execution_count": 67,
      "outputs": [
        {
          "output_type": "execute_result",
          "data": {
            "text/plain": [
              "0"
            ]
          },
          "metadata": {},
          "execution_count": 67
        }
      ]
    },
    {
      "cell_type": "code",
      "metadata": {
        "colab": {
          "base_uri": "https://localhost:8080/",
          "height": 203
        },
        "id": "WLC_0oozVnl8",
        "outputId": "7c2fd673-9a78-4a3a-e91d-cf1a7ec98aae"
      },
      "source": [
        "df.head()"
      ],
      "execution_count": 68,
      "outputs": [
        {
          "output_type": "execute_result",
          "data": {
            "text/html": [
              "<div>\n",
              "<style scoped>\n",
              "    .dataframe tbody tr th:only-of-type {\n",
              "        vertical-align: middle;\n",
              "    }\n",
              "\n",
              "    .dataframe tbody tr th {\n",
              "        vertical-align: top;\n",
              "    }\n",
              "\n",
              "    .dataframe thead th {\n",
              "        text-align: right;\n",
              "    }\n",
              "</style>\n",
              "<table border=\"1\" class=\"dataframe\">\n",
              "  <thead>\n",
              "    <tr style=\"text-align: right;\">\n",
              "      <th></th>\n",
              "      <th>comments</th>\n",
              "      <th>category</th>\n",
              "    </tr>\n",
              "  </thead>\n",
              "  <tbody>\n",
              "    <tr>\n",
              "      <th>0</th>\n",
              "      <td>i have a conversation with anyone and i instan...</td>\n",
              "      <td>1.0</td>\n",
              "    </tr>\n",
              "    <tr>\n",
              "      <th>1</th>\n",
              "      <td>i lost a great job at the beginning of the pan...</td>\n",
              "      <td>1.0</td>\n",
              "    </tr>\n",
              "    <tr>\n",
              "      <th>2</th>\n",
              "      <td>well im embarrassed as can be panic attack got...</td>\n",
              "      <td>1.0</td>\n",
              "    </tr>\n",
              "    <tr>\n",
              "      <th>3</th>\n",
              "      <td>and when i say bitch i mean it in the sense th...</td>\n",
              "      <td>0.0</td>\n",
              "    </tr>\n",
              "    <tr>\n",
              "      <th>4</th>\n",
              "      <td>work just amplifies my social anxiety to the p...</td>\n",
              "      <td>1.0</td>\n",
              "    </tr>\n",
              "  </tbody>\n",
              "</table>\n",
              "</div>"
            ],
            "text/plain": [
              "                                            comments  category\n",
              "0  i have a conversation with anyone and i instan...       1.0\n",
              "1  i lost a great job at the beginning of the pan...       1.0\n",
              "2  well im embarrassed as can be panic attack got...       1.0\n",
              "3  and when i say bitch i mean it in the sense th...       0.0\n",
              "4  work just amplifies my social anxiety to the p...       1.0"
            ]
          },
          "metadata": {},
          "execution_count": 68
        }
      ]
    },
    {
      "cell_type": "code",
      "metadata": {
        "colab": {
          "base_uri": "https://localhost:8080/",
          "height": 606
        },
        "id": "6FAOfcDBVptD",
        "outputId": "0dc96ff3-5a0a-420d-ab45-03ce20a5df06"
      },
      "source": [
        "plt.figure(figsize=(10,10))\n",
        "word_count=df['comments'].apply(lambda x:len(x.split()))\n",
        "y=word_count.value_counts()\n",
        "x=y.index\n",
        "plt.bar(x,y,width=0.5)\n",
        "plt.xlim(0,90)\n",
        "plt.xlabel('lenght of words in sentences')\n",
        "plt.ylabel('count')\n",
        "plt.show()"
      ],
      "execution_count": 69,
      "outputs": [
        {
          "output_type": "display_data",
          "data": {
            "image/png": "[encoded data removed]",
            "text/plain": [
              "<Figure size 720x720 with 1 Axes>"
            ]
          },
          "metadata": {
            "needs_background": "light"
          }
        }
      ]
    },
    {
      "cell_type": "markdown",
      "metadata": {
        "id": "Sz4KrLoXWUlu"
      },
      "source": [
        "# **Preparing data for model fitting.**"
      ]
    },
    {
      "cell_type": "code",
      "metadata": {
        "colab": {
          "base_uri": "https://localhost:8080/"
        },
        "id": "pFsBk_PxV-YP",
        "outputId": "146464b4-8919-409c-ee5a-4d35e375e976"
      },
      "source": [
        "len(df[df[\"category\"]>=0])"
      ],
      "execution_count": 70,
      "outputs": [
        {
          "output_type": "execute_result",
          "data": {
            "text/plain": [
              "198"
            ]
          },
          "metadata": {},
          "execution_count": 70
        }
      ]
    },
    {
      "cell_type": "code",
      "metadata": {
        "colab": {
          "base_uri": "https://localhost:8080/",
          "height": 287
        },
        "id": "MZ29inCAWnPE",
        "outputId": "3ff228fe-b275-4acf-ecc9-512c53b5921a"
      },
      "source": [
        "#training data\n",
        "train_data=df.iloc[:198,:]\n",
        "train_data.dropna(inplace=True)\n",
        "train_data.tail()"
      ],
      "execution_count": 71,
      "outputs": [
        {
          "output_type": "stream",
          "name": "stderr",
          "text": [
            "/usr/local/lib/python3.7/dist-packages/ipykernel_launcher.py:3: SettingWithCopyWarning: \n",
            "A value is trying to be set on a copy of a slice from a DataFrame\n",
            "\n",
            "See the caveats in the documentation: https://pandas.pydata.org/pandas-docs/stable/user_guide/indexing.html#returning-a-view-versus-a-copy\n",
            "  This is separate from the ipykernel package so we can avoid doing imports until\n"
          ]
        },
        {
          "output_type": "execute_result",
          "data": {
            "text/html": [
              "<div>\n",
              "<style scoped>\n",
              "    .dataframe tbody tr th:only-of-type {\n",
              "        vertical-align: middle;\n",
              "    }\n",
              "\n",
              "    .dataframe tbody tr th {\n",
              "        vertical-align: top;\n",
              "    }\n",
              "\n",
              "    .dataframe thead th {\n",
              "        text-align: right;\n",
              "    }\n",
              "</style>\n",
              "<table border=\"1\" class=\"dataframe\">\n",
              "  <thead>\n",
              "    <tr style=\"text-align: right;\">\n",
              "      <th></th>\n",
              "      <th>comments</th>\n",
              "      <th>category</th>\n",
              "    </tr>\n",
              "  </thead>\n",
              "  <tbody>\n",
              "    <tr>\n",
              "      <th>193</th>\n",
              "      <td>i try to go early in the morning but there is ...</td>\n",
              "      <td>0.0</td>\n",
              "    </tr>\n",
              "    <tr>\n",
              "      <th>194</th>\n",
              "      <td>im looking to go see a psychiatrist and im see...</td>\n",
              "      <td>0.0</td>\n",
              "    </tr>\n",
              "    <tr>\n",
              "      <th>195</th>\n",
              "      <td>i talked about having heart palpitations every...</td>\n",
              "      <td>1.0</td>\n",
              "    </tr>\n",
              "    <tr>\n",
              "      <th>196</th>\n",
              "      <td>hi im 18 years old i have not been diagnosed w...</td>\n",
              "      <td>1.0</td>\n",
              "    </tr>\n",
              "    <tr>\n",
              "      <th>197</th>\n",
              "      <td>i started zoloft 8 days ago i was first prescr...</td>\n",
              "      <td>0.0</td>\n",
              "    </tr>\n",
              "  </tbody>\n",
              "</table>\n",
              "</div>"
            ],
            "text/plain": [
              "                                              comments  category\n",
              "193  i try to go early in the morning but there is ...       0.0\n",
              "194  im looking to go see a psychiatrist and im see...       0.0\n",
              "195  i talked about having heart palpitations every...       1.0\n",
              "196  hi im 18 years old i have not been diagnosed w...       1.0\n",
              "197  i started zoloft 8 days ago i was first prescr...       0.0"
            ]
          },
          "metadata": {},
          "execution_count": 71
        }
      ]
    },
    {
      "cell_type": "code",
      "metadata": {
        "id": "a72vrk8tXRJ5"
      },
      "source": [
        "x=train_data[\"comments\"]\n",
        "y=train_data[\"category\"]"
      ],
      "execution_count": 72,
      "outputs": []
    },
    {
      "cell_type": "code",
      "metadata": {
        "colab": {
          "base_uri": "https://localhost:8080/",
          "height": 218
        },
        "id": "pqUJNLC2YBbI",
        "outputId": "8c26cb19-b956-4463-bac3-a2390afe19b6"
      },
      "source": [
        "#prediction data\n",
        "pred=df.iloc[198:,:]\n",
        "x_pred=pred[\"comments\"]\n",
        "display(x_pred)"
      ],
      "execution_count": 73,
      "outputs": [
        {
          "output_type": "display_data",
          "data": {
            "text/plain": [
              "198    i dont know much about other anxietys what are...\n",
              "199    anyone use contrave and have massive anxiety a...\n",
              "200    ive always had terribly anxiety but ive never ...\n",
              "201    it feels like i cant really get tired anymore ...\n",
              "202    im always creating problems for myself and its...\n",
              "                             ...                        \n",
              "574    i had a health anxiety issue for almost a week...\n",
              "575    anyone else have constant anxiety symptoms but...\n",
              "576    i live in a busy part of my city and there are...\n",
              "577    today i did something kind of stupid on the ro...\n",
              "578    i really need to know if anyone relates to thi...\n",
              "Name: comments, Length: 375, dtype: object"
            ]
          },
          "metadata": {}
        }
      ]
    },
    {
      "cell_type": "code",
      "metadata": {
        "id": "m2QHNizMYZx0"
      },
      "source": [
        "vectorizer = TfidfVectorizer(min_df = 5,\n",
        "                             max_df = 0.8,\n",
        "                             sublinear_tf = True,\n",
        "                             use_idf = True,\n",
        "                             decode_error=\"replace\")\n",
        "train_vectors = vectorizer.fit_transform(x)\n",
        "test_vectors = vectorizer.transform(x_pred)"
      ],
      "execution_count": 74,
      "outputs": []
    },
    {
      "cell_type": "code",
      "metadata": {
        "colab": {
          "base_uri": "https://localhost:8080/"
        },
        "id": "9s31Q8vfZG0V",
        "outputId": "f18a0449-9461-4517-da64-39f30f13d178"
      },
      "source": [
        "import time\n",
        "from sklearn import svm\n",
        "from sklearn.metrics import classification_report\n",
        "classifier_linear = svm.SVC(kernel='linear')\n",
        "classifier_linear.fit(train_vectors,y)"
      ],
      "execution_count": 75,
      "outputs": [
        {
          "output_type": "execute_result",
          "data": {
            "text/plain": [
              "SVC(C=1.0, break_ties=False, cache_size=200, class_weight=None, coef0=0.0,\n",
              "    decision_function_shape='ovr', degree=3, gamma='scale', kernel='linear',\n",
              "    max_iter=-1, probability=False, random_state=None, shrinking=True,\n",
              "    tol=0.001, verbose=False)"
            ]
          },
          "metadata": {},
          "execution_count": 75
        }
      ]
    },
    {
      "cell_type": "markdown",
      "metadata": {
        "id": "xgjV1WpYaN9I"
      },
      "source": [
        "# **Predicting on more than 300 records**"
      ]
    },
    {
      "cell_type": "code",
      "metadata": {
        "id": "bs1D2jWcZdZS"
      },
      "source": [
        "prediction_linear = classifier_linear.predict(test_vectors)"
      ],
      "execution_count": 76,
      "outputs": []
    },
    {
      "cell_type": "code",
      "metadata": {
        "colab": {
          "base_uri": "https://localhost:8080/"
        },
        "id": "vW7DTFqeaYBp",
        "outputId": "78d6abdd-b2c4-48d4-8d04-aea301719dd2"
      },
      "source": [
        "prediction_linear"
      ],
      "execution_count": 77,
      "outputs": [
        {
          "output_type": "execute_result",
          "data": {
            "text/plain": [
              "array([1., 1., 1., 1., 1., 1., 1., 1., 1., 1., 0., 1., 1., 0., 1., 1., 1.,\n",
              "       1., 1., 0., 0., 0., 1., 0., 0., 0., 1., 1., 1., 0., 1., 1., 1., 1.,\n",
              "       1., 1., 1., 1., 1., 1., 1., 1., 1., 1., 0., 1., 1., 1., 1., 0., 0.,\n",
              "       1., 1., 1., 1., 1., 1., 1., 1., 0., 1., 1., 1., 0., 1., 1., 1., 1.,\n",
              "       1., 1., 1., 1., 1., 1., 1., 1., 1., 1., 1., 1., 1., 1., 1., 0., 1.,\n",
              "       0., 1., 1., 1., 1., 0., 0., 0., 1., 0., 1., 0., 1., 1., 1., 1., 1.,\n",
              "       1., 1., 0., 1., 1., 0., 1., 1., 1., 1., 1., 1., 1., 1., 1., 1., 1.,\n",
              "       0., 1., 1., 1., 1., 1., 1., 1., 0., 1., 1., 0., 1., 1., 1., 1., 1.,\n",
              "       1., 1., 1., 0., 0., 1., 1., 1., 1., 1., 0., 1., 1., 1., 1., 1., 1.,\n",
              "       1., 1., 1., 1., 0., 1., 1., 0., 1., 1., 1., 1., 1., 1., 1., 1., 1.,\n",
              "       1., 1., 0., 1., 1., 1., 0., 1., 1., 1., 0., 1., 1., 1., 1., 1., 0.,\n",
              "       1., 1., 0., 0., 1., 1., 1., 1., 1., 0., 1., 1., 0., 1., 1., 1., 1.,\n",
              "       0., 1., 1., 0., 1., 1., 1., 0., 1., 1., 1., 0., 1., 0., 1., 0., 1.,\n",
              "       0., 1., 1., 1., 1., 0., 0., 1., 1., 1., 1., 0., 1., 1., 1., 1., 0.,\n",
              "       1., 1., 1., 1., 1., 1., 1., 1., 1., 1., 1., 0., 1., 1., 1., 1., 0.,\n",
              "       1., 1., 1., 1., 1., 1., 1., 1., 1., 0., 1., 1., 1., 1., 1., 1., 1.,\n",
              "       1., 1., 1., 1., 0., 0., 0., 0., 1., 0., 1., 1., 1., 1., 1., 0., 1.,\n",
              "       1., 0., 1., 1., 1., 1., 1., 0., 1., 1., 1., 1., 1., 1., 0., 1., 1.,\n",
              "       1., 1., 1., 1., 0., 1., 1., 1., 1., 1., 1., 1., 1., 1., 0., 0., 1.,\n",
              "       1., 1., 1., 1., 1., 1., 1., 1., 1., 1., 1., 1., 1., 1., 1., 1., 1.,\n",
              "       1., 1., 1., 1., 0., 0., 1., 1., 1., 1., 0., 1., 1., 0., 1., 0., 1.,\n",
              "       1., 1., 0., 1., 1., 1., 1., 0., 1., 1., 1., 1., 1., 0., 0., 1., 1.,\n",
              "       1.])"
            ]
          },
          "metadata": {},
          "execution_count": 77
        }
      ]
    },
    {
      "cell_type": "code",
      "metadata": {
        "id": "5y9iO4FNacc9"
      },
      "source": [
        ""
      ],
      "execution_count": 77,
      "outputs": []
    }
  ]
}